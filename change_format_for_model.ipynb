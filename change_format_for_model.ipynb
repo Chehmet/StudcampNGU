{
 "cells": [
  {
   "cell_type": "code",
   "execution_count": null,
   "id": "a84f9a8f",
   "metadata": {},
   "outputs": [],
   "source": []
  },
  {
   "cell_type": "code",
   "execution_count": 9,
   "id": "acce81f9",
   "metadata": {},
   "outputs": [
    {
     "name": "stderr",
     "output_type": "stream",
     "text": [
      "Обработка логов: 100%|██████████| 2417/2417 [00:01<00:00, 1946.20it/s]"
     ]
    },
    {
     "name": "stdout",
     "output_type": "stream",
     "text": [
      "✅ Файл сохранён: piiranha_formatted_logs.jsonl\n"
     ]
    },
    {
     "name": "stderr",
     "output_type": "stream",
     "text": [
      "\n"
     ]
    }
   ],
   "source": [
    "# Файл: prepare_logs_to_jsonl.py\n",
    "\n",
    "import json\n",
    "import re\n",
    "from transformers import AutoTokenizer\n",
    "from tqdm import tqdm\n",
    "\n",
    "# --- Конфигурация ---\n",
    "model_name = \"iiiorg/piiranha-v1-detect-personal-information\"\n",
    "input_file = \"synthetic_logs.csv\"\n",
    "output_jsonl_file = \"piiranha_formatted_logs.jsonl\"\n",
    "\n",
    "# --- Персональные теги ---\n",
    "personal_tags = {\n",
    "    \"client_ip\": \"IP\",\n",
    "    \"username\": \"USERNAME\",\n",
    "    \"accountName\": \"ACCOUNT\",\n",
    "    \"telephone\": \"PHONE\",\n",
    "    \"creditCard\": \"CREDIT_CARD\",\n",
    "    \"user_id\": \"USERID\",\n",
    "    \"accountID\": \"ACCOUNTID\",\n",
    "    \"login\": \"LOGIN\",\n",
    "    \"givenName\": \"NAME\",\n",
    "}\n",
    "\n",
    "tokenizer = AutoTokenizer.from_pretrained(model_name)\n",
    "\n",
    "def tag_text_with_labels(text: str, tag_dict: dict):\n",
    "    matches = list(re.finditer(r\"<(.*?)>(.*?)</\\1>\", text))\n",
    "    entities = []\n",
    "    cleaned_parts = []\n",
    "    last_end = 0\n",
    "    offset_shift = 0\n",
    "\n",
    "    for match in matches:\n",
    "        tag, value = match.group(1), match.group(2)\n",
    "        if tag in tag_dict:\n",
    "            start = match.start(2) - offset_shift\n",
    "            end = match.end(2) - offset_shift\n",
    "            entities.append({\"start\": start, \"end\": end, \"label\": tag_dict[tag]})\n",
    "        cleaned_parts.append(text[last_end:match.start()])\n",
    "        cleaned_parts.append(value)\n",
    "        offset_shift += len(match.group(0)) - len(value)\n",
    "        last_end = match.end()\n",
    "\n",
    "    cleaned_parts.append(text[last_end:])\n",
    "    clean_text = \"\".join(cleaned_parts)\n",
    "\n",
    "    # Токенизация\n",
    "    encoding = tokenizer(clean_text, return_offsets_mapping=True, add_special_tokens=False)\n",
    "    tokens = tokenizer.convert_ids_to_tokens(encoding[\"input_ids\"])\n",
    "\n",
    "    # BIO-маркировка\n",
    "    labels = [\"O\"] * len(encoding[\"offset_mapping\"])\n",
    "    for ent in entities:\n",
    "        for i, (start, end) in enumerate(encoding[\"offset_mapping\"]):\n",
    "            if start >= ent[\"start\"] and end <= ent[\"end\"]:\n",
    "                labels[i] = f\"I-{ent['label']}\"\n",
    "        for i, (start, end) in enumerate(encoding[\"offset_mapping\"]):\n",
    "            if start == ent[\"start\"]:\n",
    "                labels[i] = f\"B-{ent['label']}\"\n",
    "\n",
    "    return tokens, labels\n",
    "\n",
    "# --- Чтение логов из файла ---\n",
    "def load_logs(file_path):\n",
    "    with open(file_path, \"r\", encoding=\"utf-8\") as f:\n",
    "        lines = f.readlines()\n",
    "    return [\n",
    "        line.strip().strip('\"')\n",
    "        for line in lines\n",
    "        if line.strip() and not line.lower().startswith(\"log_text\")\n",
    "    ]\n",
    "\n",
    "# --- Основной процесс ---\n",
    "logs = load_logs(input_file)\n",
    "\n",
    "with open(output_jsonl_file, \"w\", encoding=\"utf-8\") as out_file:\n",
    "    for log in tqdm(logs, desc=\"Обработка логов\"):\n",
    "        tokens, labels = tag_text_with_labels(log, personal_tags)\n",
    "        out_file.write(json.dumps({\"tokens\": tokens, \"ner_labels\": labels}, ensure_ascii=False) + \"\\n\")\n",
    "\n",
    "print(f\"✅ Файл сохранён: {output_jsonl_file}\")\n"
   ]
  }
 ],
 "metadata": {
  "kernelspec": {
   "display_name": "base",
   "language": "python",
   "name": "python3"
  },
  "language_info": {
   "codemirror_mode": {
    "name": "ipython",
    "version": 3
   },
   "file_extension": ".py",
   "mimetype": "text/x-python",
   "name": "python",
   "nbconvert_exporter": "python",
   "pygments_lexer": "ipython3",
   "version": "3.13.2"
  }
 },
 "nbformat": 4,
 "nbformat_minor": 5
}
